{
  "cells": [
    {
      "cell_type": "code",
      "source": [
        "symbols = \"$*&!@\"\n",
        "codes = []\n",
        "\n",
        "for symbol in symbols:\n",
        "    codes.append(ord(symbol))\n",
        "\n",
        "print(codes)\n"
      ],
      "metadata": {
        "colab": {
          "base_uri": "https://localhost:8080/"
        },
        "id": "OnvH-6GChGFV",
        "outputId": "d92cc8c0-02ba-4dec-f646-3c31ac8a4738"
      },
      "execution_count": 4,
      "outputs": [
        {
          "output_type": "stream",
          "name": "stdout",
          "text": [
            "[36, 42, 38, 33, 64]\n"
          ]
        }
      ]
    },
    {
      "cell_type": "code",
      "source": [
        "symbols = \"$*&!@\"\n",
        "\n",
        "codes = [ord(symbol) for symbol in symbols]\n",
        "\n",
        "print(codes)\n"
      ],
      "metadata": {
        "colab": {
          "base_uri": "https://localhost:8080/"
        },
        "id": "zI_KD5sxhH_f",
        "outputId": "09142617-e2aa-4e88-b144-c1252f636ba0"
      },
      "execution_count": 5,
      "outputs": [
        {
          "output_type": "stream",
          "name": "stdout",
          "text": [
            "[36, 42, 38, 33, 64]\n"
          ]
        }
      ]
    },
    {
      "cell_type": "code",
      "source": [
        "x = \"'!~$$*&&!@\"\n",
        "dummy = [ord(x) for x in x]\n",
        "\n",
        "print(x)\n",
        "print(dummy)\n"
      ],
      "metadata": {
        "colab": {
          "base_uri": "https://localhost:8080/"
        },
        "id": "xSKqzLeIh5wA",
        "outputId": "bae3cab1-6d80-457e-b563-53b683ec5255"
      },
      "execution_count": 6,
      "outputs": [
        {
          "output_type": "stream",
          "name": "stdout",
          "text": [
            "'!~$$*&&!@\n",
            "[39, 33, 126, 36, 36, 42, 38, 38, 33, 64]\n"
          ]
        }
      ]
    },
    {
      "cell_type": "code",
      "source": [
        "symbols = \"'!~$$*&&!@\"\n",
        "beyond_ascii = [ord(s) for s in symbols if ord(s) > 32]\n",
        "\n",
        "print(beyond_ascii)\n"
      ],
      "metadata": {
        "colab": {
          "base_uri": "https://localhost:8080/"
        },
        "id": "8mR3XAEVh8hs",
        "outputId": "91f9924e-fd6f-4170-836b-1c95ce59e619"
      },
      "execution_count": 7,
      "outputs": [
        {
          "output_type": "stream",
          "name": "stdout",
          "text": [
            "[39, 33, 126, 36, 36, 42, 38, 38, 33, 64]\n"
          ]
        }
      ]
    },
    {
      "cell_type": "code",
      "source": [
        "symbols = \"'!~$$*&&!@\"\n",
        "beyond_ascii = list(filter(lambda c: c > 64, map(ord, symbols)))\n",
        "\n",
        "print(beyond_ascii, '\\n')\n",
        "\n",
        "print(f\"Map function:\\n>>> {map(ord, symbols)}\")\n",
        "print(f\"List after map:\\n>>> {list(map(ord, symbols))}\")\n"
      ],
      "metadata": {
        "colab": {
          "base_uri": "https://localhost:8080/"
        },
        "id": "e2z2XYQ5h9T1",
        "outputId": "5b759cf0-d87a-4c9e-9100-ec15612fc851"
      },
      "execution_count": 8,
      "outputs": [
        {
          "output_type": "stream",
          "name": "stdout",
          "text": [
            "[126] \n",
            "\n",
            "Map function:\n",
            ">>> <map object at 0x79d8524a70d0>\n",
            "List after map:\n",
            ">>> [39, 33, 126, 36, 36, 42, 38, 38, 33, 64]\n"
          ]
        }
      ]
    },
    {
      "cell_type": "code",
      "source": [
        "colors = ['black', 'white']\n",
        "sizes = ['S', 'M', 'L']\n",
        "tshirts = [(color, size) for color in colors for size in sizes]\n",
        "\n",
        "print(tshirts)\n",
        "\n",
        "for color in colors:\n",
        "    for size in sizes:\n",
        "        print((color, size))\n"
      ],
      "metadata": {
        "colab": {
          "base_uri": "https://localhost:8080/"
        },
        "id": "EeRveReWh_J1",
        "outputId": "5069fe80-8c91-4924-b20e-312601872bbf"
      },
      "execution_count": 9,
      "outputs": [
        {
          "output_type": "stream",
          "name": "stdout",
          "text": [
            "[('black', 'S'), ('black', 'M'), ('black', 'L'), ('white', 'S'), ('white', 'M'), ('white', 'L')]\n",
            "('black', 'S')\n",
            "('black', 'M')\n",
            "('black', 'L')\n",
            "('white', 'S')\n",
            "('white', 'M')\n",
            "('white', 'L')\n"
          ]
        }
      ]
    },
    {
      "cell_type": "code",
      "source": [
        "symbols = \"!#^&&#\"\n",
        "ord_s = tuple(ord(s) for s in symbols if ord(s))\n",
        "\n",
        "print(ord_s)\n"
      ],
      "metadata": {
        "colab": {
          "base_uri": "https://localhost:8080/"
        },
        "id": "LcfrI3Cvh_UY",
        "outputId": "f90edd30-8ef9-4128-9860-d968d26914c1"
      },
      "execution_count": 10,
      "outputs": [
        {
          "output_type": "stream",
          "name": "stdout",
          "text": [
            "(33, 35, 94, 38, 38, 35)\n"
          ]
        }
      ]
    },
    {
      "cell_type": "code",
      "source": [
        "colors = ['black', 'white']\n",
        "sizes = ['S', 'M', 'L']\n",
        "\n",
        "for tshirt in ('{} {}'.format(c, s) for s in sizes for c in colors):\n",
        "    print(tshirt)\n"
      ],
      "metadata": {
        "colab": {
          "base_uri": "https://localhost:8080/"
        },
        "id": "FolPHhzoh_0m",
        "outputId": "5ef7cec4-1151-4c7c-9cfc-a90a8ee6ebb9"
      },
      "execution_count": 11,
      "outputs": [
        {
          "output_type": "stream",
          "name": "stdout",
          "text": [
            "black S\n",
            "white S\n",
            "black M\n",
            "white M\n",
            "black L\n",
            "white L\n"
          ]
        }
      ]
    },
    {
      "cell_type": "code",
      "source": [
        "lax_coordinates = (33.9425, -118.408056)\n",
        "city, year, pop, chg, area = ('Tokyo', 2003, 32450, 0.66, 8014)\n",
        "traveler_ids = [('USA', '31195855'),\n",
        "                ('BRA', 'CE342567'),\n",
        "                ('ESP', 'XDA205856')]\n",
        "\n",
        "for passport in sorted(traveler_ids):\n",
        "    print('%s/%s' % passport)\n",
        "    print('{}/{}'.format(passport[0], passport[1]))\n",
        "    print(f'{passport[0]}/{passport[1]}')\n"
      ],
      "metadata": {
        "colab": {
          "base_uri": "https://localhost:8080/"
        },
        "id": "L6BlfLkdh_9S",
        "outputId": "0b201c6e-7127-411c-9fa5-bb2127176527"
      },
      "execution_count": 12,
      "outputs": [
        {
          "output_type": "stream",
          "name": "stdout",
          "text": [
            "BRA/CE342567\n",
            "BRA/CE342567\n",
            "BRA/CE342567\n",
            "ESP/XDA205856\n",
            "ESP/XDA205856\n",
            "ESP/XDA205856\n",
            "USA/31195855\n",
            "USA/31195855\n",
            "USA/31195855\n"
          ]
        }
      ]
    },
    {
      "cell_type": "code",
      "source": [
        "for country, _ in traveler_ids:\n",
        "    print(country)\n"
      ],
      "metadata": {
        "colab": {
          "base_uri": "https://localhost:8080/"
        },
        "id": "-CKyw5B0iAEV",
        "outputId": "ce3a3a4c-28a7-4bcd-e485-4c2b697d5faf"
      },
      "execution_count": 13,
      "outputs": [
        {
          "output_type": "stream",
          "name": "stdout",
          "text": [
            "USA\n",
            "BRA\n",
            "ESP\n"
          ]
        }
      ]
    },
    {
      "cell_type": "code",
      "source": [
        "lax_coordinates = (33.9425, -118.408056)\n",
        "latitude, longitude = lax_coordinates\n",
        "print(latitude)\n",
        "print(longitude)\n"
      ],
      "metadata": {
        "colab": {
          "base_uri": "https://localhost:8080/"
        },
        "id": "t_25AoHmiALl",
        "outputId": "b6960696-7377-4034-a001-6a6079eb40b9"
      },
      "execution_count": 14,
      "outputs": [
        {
          "output_type": "stream",
          "name": "stdout",
          "text": [
            "33.9425\n",
            "-118.408056\n"
          ]
        }
      ]
    },
    {
      "cell_type": "code",
      "source": [
        "a = 10\n",
        "b = 20\n",
        "b, a = a, b\n",
        "print(a, b)\n"
      ],
      "metadata": {
        "colab": {
          "base_uri": "https://localhost:8080/"
        },
        "id": "mjrlHJyqirvM",
        "outputId": "9badead9-43d7-48c5-f81c-8566c9743509"
      },
      "execution_count": 15,
      "outputs": [
        {
          "output_type": "stream",
          "name": "stdout",
          "text": [
            "20 10\n"
          ]
        }
      ]
    },
    {
      "cell_type": "code",
      "source": [
        "print(divmod(20, 8))\n",
        "\n",
        "t = (20, 8)\n",
        "print(divmod(*t))\n",
        "\n",
        "quotient, remainder = divmod(*t)\n",
        "print(quotient, remainder)\n"
      ],
      "metadata": {
        "colab": {
          "base_uri": "https://localhost:8080/"
        },
        "id": "Vw5FUpkYiASD",
        "outputId": "4936378f-5399-4852-ed5a-a0fde5227eef"
      },
      "execution_count": 16,
      "outputs": [
        {
          "output_type": "stream",
          "name": "stdout",
          "text": [
            "(2, 4)\n",
            "(2, 4)\n",
            "2 4\n"
          ]
        }
      ]
    },
    {
      "cell_type": "code",
      "source": [
        "import os\n",
        "_, filename = os.path.split('/home/luciano/.ssh/idrsa.pub')\n",
        "filename\n"
      ],
      "metadata": {
        "colab": {
          "base_uri": "https://localhost:8080/",
          "height": 36
        },
        "id": "5544Z8j6iAYY",
        "outputId": "a977602c-78bb-40d1-b876-fdcf359dd9e3"
      },
      "execution_count": 17,
      "outputs": [
        {
          "output_type": "execute_result",
          "data": {
            "text/plain": [
              "'idrsa.pub'"
            ],
            "application/vnd.google.colaboratory.intrinsic+json": {
              "type": "string"
            }
          },
          "metadata": {},
          "execution_count": 17
        }
      ]
    },
    {
      "cell_type": "code",
      "source": [
        "a, b, *rest = range(5)\n",
        "print(a, b, rest)\n",
        "\n",
        "a, b, *rest = range(3)\n",
        "print(a, b, rest)\n",
        "\n",
        "a, b, *rest = range(2)\n",
        "print(a, b, rest)\n"
      ],
      "metadata": {
        "colab": {
          "base_uri": "https://localhost:8080/"
        },
        "id": "wkgv1DODiAe5",
        "outputId": "9b44870f-0b41-4d9f-a978-06ca7aebb179"
      },
      "execution_count": 18,
      "outputs": [
        {
          "output_type": "stream",
          "name": "stdout",
          "text": [
            "0 1 [2, 3, 4]\n",
            "0 1 [2]\n",
            "0 1 []\n"
          ]
        }
      ]
    },
    {
      "cell_type": "code",
      "source": [
        "a, *body, c, d = range(5)\n",
        "print(a, body, c, d)\n",
        "\n",
        "*head, b, c, d = range(5)\n",
        "print(head, b, c, d)\n"
      ],
      "metadata": {
        "colab": {
          "base_uri": "https://localhost:8080/"
        },
        "id": "BSApW1TyiAk_",
        "outputId": "9bb90611-c066-46de-9d19-783be88be56f"
      },
      "execution_count": 19,
      "outputs": [
        {
          "output_type": "stream",
          "name": "stdout",
          "text": [
            "0 [1, 2] 3 4\n",
            "[0, 1] 2 3 4\n"
          ]
        }
      ]
    },
    {
      "cell_type": "code",
      "source": [
        "metro_areas = [\n",
        "    (\"Tokyo\", \"JP\", 36.933, (35, 139)),\n",
        "    (\"Delhi NCR\", \"IN\", 21, (28, 77)),\n",
        "    (\"Mexico City\", \"MX\", 20, (19, -99)),\n",
        "    (\"New York-Newark\", \"US\", 20, (40, -74)),\n",
        "    (\"Sao Paulo\", \"BR\", 19, (-23, -46))\n",
        "]\n",
        "\n",
        "print(\"{:15} | {:^9} | {:^9}\".format('', 'lat.', 'long.'))\n",
        "fmt = '{:15} | {:9.4f} | {:9.4f}'\n",
        "\n",
        "for name, cc, pop, (lat, longi) in metro_areas:\n",
        "    if longi <= 0:\n",
        "        print(fmt.format(name, lat, longi))\n"
      ],
      "metadata": {
        "colab": {
          "base_uri": "https://localhost:8080/"
        },
        "id": "fhLch_JfiAq5",
        "outputId": "6a63f1b9-bbc4-4760-d482-808de0789788"
      },
      "execution_count": 20,
      "outputs": [
        {
          "output_type": "stream",
          "name": "stdout",
          "text": [
            "                |   lat.    |   long.  \n",
            "Mexico City     |   19.0000 |  -99.0000\n",
            "New York-Newark |   40.0000 |  -74.0000\n",
            "Sao Paulo       |  -23.0000 |  -46.0000\n"
          ]
        }
      ]
    },
    {
      "cell_type": "code",
      "source": [
        "from collections import namedtuple\n",
        "\n",
        "City = namedtuple('City', 'name country population coordinates')\n",
        "tokyo = City('Tokyo', 'JP', 36.933, (35.689, 139.691))\n",
        "\n",
        "print(tokyo)\n",
        "print(tokyo.population)\n",
        "print(tokyo.coordinates)\n",
        "print(tokyo[1])\n"
      ],
      "metadata": {
        "colab": {
          "base_uri": "https://localhost:8080/"
        },
        "id": "-fXM97pqiAw3",
        "outputId": "f18c6a39-2ca4-4957-be3c-c08543dd0f5f"
      },
      "execution_count": 21,
      "outputs": [
        {
          "output_type": "stream",
          "name": "stdout",
          "text": [
            "City(name='Tokyo', country='JP', population=36.933, coordinates=(35.689, 139.691))\n",
            "36.933\n",
            "(35.689, 139.691)\n",
            "JP\n"
          ]
        }
      ]
    },
    {
      "cell_type": "code",
      "source": [
        "print(City._fields)\n",
        "\n",
        "LatLong = namedtuple('LatLong', 'lat long')\n",
        "delhi_data = ('Delhi NCR', 'IN', 21.935, LatLong(28.613, 77.208))\n",
        "\n",
        "delhi = City._make(delhi_data)\n",
        "print(delhi._asdict())\n",
        "\n",
        "for key, value in delhi._asdict().items():\n",
        "    print(key + ':', value)\n"
      ],
      "metadata": {
        "colab": {
          "base_uri": "https://localhost:8080/"
        },
        "id": "Ll07Z_qZi3CS",
        "outputId": "1d8fe8cc-f4d1-4cbb-cf6c-107eb1ac3b09"
      },
      "execution_count": 22,
      "outputs": [
        {
          "output_type": "stream",
          "name": "stdout",
          "text": [
            "('name', 'country', 'population', 'coordinates')\n",
            "{'name': 'Delhi NCR', 'country': 'IN', 'population': 21.935, 'coordinates': LatLong(lat=28.613, long=77.208)}\n",
            "name: Delhi NCR\n",
            "country: IN\n",
            "population: 21.935\n",
            "coordinates: LatLong(lat=28.613, long=77.208)\n"
          ]
        }
      ]
    },
    {
      "cell_type": "code",
      "source": [
        "l = [10, 20, 30, 40, 50, 60]\n",
        "print(l[:2])\n",
        "print(l[2:])\n",
        "print(l[:3])\n",
        "print(l[3:])\n"
      ],
      "metadata": {
        "colab": {
          "base_uri": "https://localhost:8080/"
        },
        "id": "hQOrr-sbi4EC",
        "outputId": "e1e44ee0-efac-413c-e7c2-47a688c33100"
      },
      "execution_count": 23,
      "outputs": [
        {
          "output_type": "stream",
          "name": "stdout",
          "text": [
            "[10, 20]\n",
            "[30, 40, 50, 60]\n",
            "[10, 20, 30]\n",
            "[40, 50, 60]\n"
          ]
        }
      ]
    },
    {
      "cell_type": "code",
      "source": [
        "invoice = \"\"\"\n",
        "0...6......................25........33.....40........\n",
        "1909 Pimoroni               $17.50    3      $52.50\n",
        "1489 6mm Tactile            $4.95     2      $9.90\n",
        "\"\"\"\n",
        "\n",
        "SKU = slice(0, 6)\n",
        "DESCRIPTION = slice(6, 25)\n",
        "UNIT_PRICE = slice(25, 33)\n",
        "QUANTITY = slice(33, 40)\n",
        "ITEM_TOTAL = slice(40, None)\n",
        "\n",
        "line_items = invoice.split('\\n')[2:]\n",
        "\n",
        "for item in line_items:\n",
        "    print(item[UNIT_PRICE], item[DESCRIPTION])\n"
      ],
      "metadata": {
        "colab": {
          "base_uri": "https://localhost:8080/"
        },
        "id": "Ygr11SnJi4mu",
        "outputId": "334ccac4-41df-41f0-f497-7bfced419a90"
      },
      "execution_count": 24,
      "outputs": [
        {
          "output_type": "stream",
          "name": "stdout",
          "text": [
            "   $17.5 imoroni            \n",
            "   $4.95 mm Tactile         \n",
            " \n"
          ]
        }
      ]
    },
    {
      "cell_type": "code",
      "source": [
        "l = list(range(10))\n",
        "print(l)\n",
        "\n",
        "l[2:5] = [20, 30]\n",
        "print(l)\n",
        "\n",
        "del l[5:7]\n",
        "print(l)\n",
        "\n",
        "l[3::2] = [11, 22]\n",
        "print(l)\n"
      ],
      "metadata": {
        "colab": {
          "base_uri": "https://localhost:8080/"
        },
        "id": "A_9TZV_bi4j4",
        "outputId": "28c11514-e2da-45f4-d9a5-ecff56527c23"
      },
      "execution_count": 25,
      "outputs": [
        {
          "output_type": "stream",
          "name": "stdout",
          "text": [
            "[0, 1, 2, 3, 4, 5, 6, 7, 8, 9]\n",
            "[0, 1, 20, 30, 5, 6, 7, 8, 9]\n",
            "[0, 1, 20, 30, 5, 8, 9]\n",
            "[0, 1, 20, 11, 5, 22, 9]\n"
          ]
        }
      ]
    },
    {
      "cell_type": "code",
      "source": [
        "l[2:5] = 100"
      ],
      "metadata": {
        "colab": {
          "base_uri": "https://localhost:8080/",
          "height": 149
        },
        "id": "lxSUgYoBi4g7",
        "outputId": "9b1beaaf-4d0e-4757-8002-ed4a4d97ecee"
      },
      "execution_count": 26,
      "outputs": [
        {
          "output_type": "error",
          "ename": "TypeError",
          "evalue": "must assign iterable to extended slice",
          "traceback": [
            "\u001b[0;31m---------------------------------------------------------------------------\u001b[0m",
            "\u001b[0;31mTypeError\u001b[0m                                 Traceback (most recent call last)",
            "\u001b[0;32m/tmp/ipython-input-559711174.py\u001b[0m in \u001b[0;36m<cell line: 0>\u001b[0;34m()\u001b[0m\n\u001b[0;32m----> 1\u001b[0;31m \u001b[0ml\u001b[0m\u001b[0;34m[\u001b[0m\u001b[0;36m2\u001b[0m\u001b[0;34m:\u001b[0m\u001b[0;36m5\u001b[0m\u001b[0;34m]\u001b[0m \u001b[0;34m=\u001b[0m \u001b[0;36m100\u001b[0m\u001b[0;34m\u001b[0m\u001b[0;34m\u001b[0m\u001b[0m\n\u001b[0m",
            "\u001b[0;31mTypeError\u001b[0m: must assign iterable to extended slice"
          ]
        }
      ]
    },
    {
      "cell_type": "code",
      "source": [
        "l[2:5] = [100]\n",
        "print(l)\n"
      ],
      "metadata": {
        "colab": {
          "base_uri": "https://localhost:8080/"
        },
        "id": "mRlY_q73i4d3",
        "outputId": "b8669770-053c-4ca5-f807-9afa0e4820c7"
      },
      "execution_count": 27,
      "outputs": [
        {
          "output_type": "stream",
          "name": "stdout",
          "text": [
            "[0, 1, 100, 22, 9]\n"
          ]
        }
      ]
    },
    {
      "cell_type": "code",
      "source": [
        "l = [1, 2, 3]\n",
        "print(l * 5)\n",
        "\n",
        "print(5 * 'abcd')\n"
      ],
      "metadata": {
        "colab": {
          "base_uri": "https://localhost:8080/"
        },
        "id": "OnE1p7xLi4a5",
        "outputId": "e8abf77b-cfbb-4850-cb8d-a6b1000256f9"
      },
      "execution_count": 28,
      "outputs": [
        {
          "output_type": "stream",
          "name": "stdout",
          "text": [
            "[1, 2, 3, 1, 2, 3, 1, 2, 3, 1, 2, 3, 1, 2, 3]\n",
            "abcdabcdabcdabcdabcd\n"
          ]
        }
      ]
    },
    {
      "cell_type": "code",
      "source": [
        "board = [['_'] * 3 for i in range(3)]\n",
        "print(board)\n",
        "\n",
        "board[1][2] = 'X'\n",
        "print(board)\n"
      ],
      "metadata": {
        "colab": {
          "base_uri": "https://localhost:8080/"
        },
        "id": "_k7bCpbJi4YF",
        "outputId": "b4dfe99e-0755-410f-ebd1-5183b7673d17"
      },
      "execution_count": 29,
      "outputs": [
        {
          "output_type": "stream",
          "name": "stdout",
          "text": [
            "[['_', '_', '_'], ['_', '_', '_'], ['_', '_', '_']]\n",
            "[['_', '_', '_'], ['_', '_', 'X'], ['_', '_', '_']]\n"
          ]
        }
      ]
    },
    {
      "cell_type": "code",
      "source": [
        "weird_board = [['_'] * 3] * 3\n",
        "print(weird_board)\n",
        "\n",
        "weird_board[1][2] = '0'\n",
        "print(weird_board)\n"
      ],
      "metadata": {
        "colab": {
          "base_uri": "https://localhost:8080/"
        },
        "id": "PSz2DiUFi4TI",
        "outputId": "540c9b84-4544-4133-872f-0878b6909f6b"
      },
      "execution_count": 30,
      "outputs": [
        {
          "output_type": "stream",
          "name": "stdout",
          "text": [
            "[['_', '_', '_'], ['_', '_', '_'], ['_', '_', '_']]\n",
            "[['_', '_', '0'], ['_', '_', '0'], ['_', '_', '0']]\n"
          ]
        }
      ]
    },
    {
      "cell_type": "code",
      "source": [
        "row = ['_'] * 3\n",
        "board = []\n",
        "for i in range(3):\n",
        "    board.append(row)\n",
        "\n",
        "board[1][2] = 'X'\n",
        "print(board)\n"
      ],
      "metadata": {
        "colab": {
          "base_uri": "https://localhost:8080/"
        },
        "id": "SvLsuLrpje_C",
        "outputId": "bbcca17f-1092-4fa9-e121-478f9a81aa99"
      },
      "execution_count": 31,
      "outputs": [
        {
          "output_type": "stream",
          "name": "stdout",
          "text": [
            "[['_', '_', 'X'], ['_', '_', 'X'], ['_', '_', 'X']]\n"
          ]
        }
      ]
    },
    {
      "cell_type": "code",
      "source": [
        "board = []\n",
        "for i in range(3):\n",
        "    row = ['_'] * 3\n",
        "    board.append(row)\n",
        "\n",
        "print(board)\n",
        "\n",
        "board[2][0] = 'X'\n",
        "print(board)\n"
      ],
      "metadata": {
        "colab": {
          "base_uri": "https://localhost:8080/"
        },
        "id": "6KCG5XvXje8U",
        "outputId": "c9741183-1f59-4cfe-86d3-ba39e1665b86"
      },
      "execution_count": 32,
      "outputs": [
        {
          "output_type": "stream",
          "name": "stdout",
          "text": [
            "[['_', '_', '_'], ['_', '_', '_'], ['_', '_', '_']]\n",
            "[['_', '_', '_'], ['_', '_', '_'], ['X', '_', '_']]\n"
          ]
        }
      ]
    },
    {
      "cell_type": "code",
      "source": [
        "l = [1, 2, 3]\n",
        "print(id(l))\n",
        "\n",
        "l *= 2\n",
        "print(l)\n",
        "print(id(l))\n"
      ],
      "metadata": {
        "colab": {
          "base_uri": "https://localhost:8080/"
        },
        "id": "8f5CJkByje5R",
        "outputId": "4bca5dc9-0df4-421b-b185-5a096f3f6a8c"
      },
      "execution_count": 33,
      "outputs": [
        {
          "output_type": "stream",
          "name": "stdout",
          "text": [
            "133970013967872\n",
            "[1, 2, 3, 1, 2, 3]\n",
            "133970013967872\n"
          ]
        }
      ]
    },
    {
      "cell_type": "code",
      "source": [
        "t = (1, 2, 3)\n",
        "print(id(t))\n",
        "\n",
        "t *= 2\n",
        "print(id(t))\n"
      ],
      "metadata": {
        "colab": {
          "base_uri": "https://localhost:8080/"
        },
        "id": "0YC9gx7Qje2q",
        "outputId": "9e518b96-c478-45b9-944a-d9e50e97179d"
      },
      "execution_count": 34,
      "outputs": [
        {
          "output_type": "stream",
          "name": "stdout",
          "text": [
            "133969993903424\n",
            "133970000556864\n"
          ]
        }
      ]
    },
    {
      "cell_type": "code",
      "source": [
        "t = (1, 2, [30, 40])\n",
        "print(t)\n",
        "\n",
        "t[2] += [50, 60]\n"
      ],
      "metadata": {
        "colab": {
          "base_uri": "https://localhost:8080/",
          "height": 205
        },
        "id": "xx9r5P1Ljezt",
        "outputId": "70d4c5d1-e6bc-4348-dc27-1dc734f59878"
      },
      "execution_count": 36,
      "outputs": [
        {
          "output_type": "stream",
          "name": "stdout",
          "text": [
            "(1, 2, [30, 40])\n"
          ]
        },
        {
          "output_type": "error",
          "ename": "TypeError",
          "evalue": "'tuple' object does not support item assignment",
          "traceback": [
            "\u001b[0;31m---------------------------------------------------------------------------\u001b[0m",
            "\u001b[0;31mTypeError\u001b[0m                                 Traceback (most recent call last)",
            "\u001b[0;32m/tmp/ipython-input-4271970678.py\u001b[0m in \u001b[0;36m<cell line: 0>\u001b[0;34m()\u001b[0m\n\u001b[1;32m      2\u001b[0m \u001b[0mprint\u001b[0m\u001b[0;34m(\u001b[0m\u001b[0mt\u001b[0m\u001b[0;34m)\u001b[0m\u001b[0;34m\u001b[0m\u001b[0;34m\u001b[0m\u001b[0m\n\u001b[1;32m      3\u001b[0m \u001b[0;34m\u001b[0m\u001b[0m\n\u001b[0;32m----> 4\u001b[0;31m \u001b[0mt\u001b[0m\u001b[0;34m[\u001b[0m\u001b[0;36m2\u001b[0m\u001b[0;34m]\u001b[0m \u001b[0;34m+=\u001b[0m \u001b[0;34m[\u001b[0m\u001b[0;36m50\u001b[0m\u001b[0;34m,\u001b[0m \u001b[0;36m60\u001b[0m\u001b[0;34m]\u001b[0m\u001b[0;34m\u001b[0m\u001b[0;34m\u001b[0m\u001b[0m\n\u001b[0m",
            "\u001b[0;31mTypeError\u001b[0m: 'tuple' object does not support item assignment"
          ]
        }
      ]
    },
    {
      "cell_type": "code",
      "source": [
        "print(t)\n"
      ],
      "metadata": {
        "colab": {
          "base_uri": "https://localhost:8080/"
        },
        "id": "NARF3Lj0jexB",
        "outputId": "45dd95fa-bbba-4135-e41c-ad39f40a934a"
      },
      "execution_count": 37,
      "outputs": [
        {
          "output_type": "stream",
          "name": "stdout",
          "text": [
            "(1, 2, [30, 40, 50, 60])\n"
          ]
        }
      ]
    },
    {
      "cell_type": "code",
      "source": [
        "fruits = ['grape', 'raspberry', 'apple', 'banana']\n",
        "\n",
        "print(sorted(fruits))\n",
        "print(fruits)\n",
        "\n",
        "print(sorted(fruits, reverse=True))\n",
        "print(sorted(fruits, key=len))\n"
      ],
      "metadata": {
        "colab": {
          "base_uri": "https://localhost:8080/"
        },
        "id": "FyHPwi4Gjeub",
        "outputId": "fb528a8c-33ba-4764-8cc3-cd54c48ed6c3"
      },
      "execution_count": 38,
      "outputs": [
        {
          "output_type": "stream",
          "name": "stdout",
          "text": [
            "['apple', 'banana', 'grape', 'raspberry']\n",
            "['grape', 'raspberry', 'apple', 'banana']\n",
            "['raspberry', 'grape', 'banana', 'apple']\n",
            "['grape', 'apple', 'banana', 'raspberry']\n"
          ]
        }
      ]
    },
    {
      "cell_type": "code",
      "source": [
        "print(sorted(fruits, key=len, reverse=True))\n",
        "print(fruits)\n",
        "\n",
        "fruits.sort()\n",
        "print(fruits)\n"
      ],
      "metadata": {
        "colab": {
          "base_uri": "https://localhost:8080/"
        },
        "id": "ZqfTqBlsjer9",
        "outputId": "6be000d1-2a13-4faa-974b-59187c758737"
      },
      "execution_count": 39,
      "outputs": [
        {
          "output_type": "stream",
          "name": "stdout",
          "text": [
            "['raspberry', 'banana', 'grape', 'apple']\n",
            "['grape', 'raspberry', 'apple', 'banana']\n",
            "['apple', 'banana', 'grape', 'raspberry']\n"
          ]
        }
      ]
    },
    {
      "cell_type": "code",
      "source": [
        "from array import array\n",
        "from random import random\n",
        "\n",
        "floats = array('d', (random() for _ in range(10**7)))\n",
        "print(floats[-1])\n"
      ],
      "metadata": {
        "colab": {
          "base_uri": "https://localhost:8080/"
        },
        "id": "bAM13U2Fjeo5",
        "outputId": "eba43c02-c6dc-4894-b830-7e1fd08766b5"
      },
      "execution_count": 40,
      "outputs": [
        {
          "output_type": "stream",
          "name": "stdout",
          "text": [
            "0.6511262339853494\n"
          ]
        }
      ]
    },
    {
      "cell_type": "code",
      "source": [
        "with open('floats.bin', 'wb') as f:\n",
        "    floats.tofile(f)\n",
        "\n",
        "from array import array\n",
        "floats2 = array('d')\n",
        "\n",
        "with open('floats.bin', 'rb') as f:\n",
        "    floats2.fromfile(f, 10**7)\n",
        "\n",
        "print(floats2[-1])\n",
        "print(floats == floats2)\n"
      ],
      "metadata": {
        "colab": {
          "base_uri": "https://localhost:8080/"
        },
        "id": "EC9q-ZVSjely",
        "outputId": "74bcfa56-1d55-444d-9639-6242c0b5dd0d"
      },
      "execution_count": 41,
      "outputs": [
        {
          "output_type": "stream",
          "name": "stdout",
          "text": [
            "0.6511262339853494\n",
            "True\n"
          ]
        }
      ]
    },
    {
      "cell_type": "code",
      "source": [
        "import array\n",
        "numbers = array.array('h', [-2, -1, 0, 1, 2])\n",
        "memv = memoryview(numbers)\n",
        "print(len(memv))\n",
        "\n",
        "print(memv[0])\n",
        "\n",
        "memv_oct = memv.cast('B')\n",
        "print(memv_oct.tolist())\n",
        "\n",
        "memv_oct[5] = 4\n",
        "print(numbers)\n"
      ],
      "metadata": {
        "colab": {
          "base_uri": "https://localhost:8080/"
        },
        "id": "klfSh3Q6j--8",
        "outputId": "a9482515-7ab7-43c6-c49c-025279923501"
      },
      "execution_count": 42,
      "outputs": [
        {
          "output_type": "stream",
          "name": "stdout",
          "text": [
            "5\n",
            "-2\n",
            "[254, 255, 255, 255, 0, 0, 1, 0, 2, 0]\n",
            "array('h', [-2, -1, 1024, 1, 2])\n"
          ]
        }
      ]
    },
    {
      "cell_type": "code",
      "source": [
        "import numpy\n",
        "a = numpy.arange(12)\n",
        "print(a)\n",
        "print(type(a))\n"
      ],
      "metadata": {
        "colab": {
          "base_uri": "https://localhost:8080/"
        },
        "id": "RZ2S-_ymj-8W",
        "outputId": "62c62ee7-68c5-422d-e67f-269e2b8b8273"
      },
      "execution_count": 43,
      "outputs": [
        {
          "output_type": "stream",
          "name": "stdout",
          "text": [
            "[ 0  1  2  3  4  5  6  7  8  9 10 11]\n",
            "<class 'numpy.ndarray'>\n"
          ]
        }
      ]
    },
    {
      "cell_type": "code",
      "source": [
        "print(a.shape)\n",
        "\n",
        "a.shape = 3, 4\n",
        "print(a)\n"
      ],
      "metadata": {
        "colab": {
          "base_uri": "https://localhost:8080/"
        },
        "id": "vx7gSSzNj-3L",
        "outputId": "bdea4f32-1cf9-4a5d-a019-73ca0f5cce70"
      },
      "execution_count": 44,
      "outputs": [
        {
          "output_type": "stream",
          "name": "stdout",
          "text": [
            "(12,)\n",
            "[[ 0  1  2  3]\n",
            " [ 4  5  6  7]\n",
            " [ 8  9 10 11]]\n"
          ]
        }
      ]
    },
    {
      "cell_type": "code",
      "source": [
        "print(a[2])\n",
        "print(a[2, 1])\n",
        "print(a[:, 1])\n"
      ],
      "metadata": {
        "colab": {
          "base_uri": "https://localhost:8080/"
        },
        "id": "xicOoiuZj-0n",
        "outputId": "863238a9-4cc0-4e35-8adc-4643feb73a99"
      },
      "execution_count": 45,
      "outputs": [
        {
          "output_type": "stream",
          "name": "stdout",
          "text": [
            "[ 8  9 10 11]\n",
            "9\n",
            "[1 5 9]\n"
          ]
        }
      ]
    },
    {
      "cell_type": "code",
      "source": [
        "print(a.transpose())"
      ],
      "metadata": {
        "colab": {
          "base_uri": "https://localhost:8080/"
        },
        "id": "4VKBKBozj-wv",
        "outputId": "e3191363-2dc5-4c3a-924d-83962b0262a2"
      },
      "execution_count": 46,
      "outputs": [
        {
          "output_type": "stream",
          "name": "stdout",
          "text": [
            "[[ 0  4  8]\n",
            " [ 1  5  9]\n",
            " [ 2  6 10]\n",
            " [ 3  7 11]]\n"
          ]
        }
      ]
    }
  ],
  "metadata": {
    "colab": {
      "provenance": []
    },
    "kernelspec": {
      "display_name": "Python 3",
      "name": "python3"
    },
    "language_info": {
      "codemirror_mode": {
        "name": "ipython",
        "version": 3
      },
      "file_extension": ".py",
      "mimetype": "text/x-python",
      "name": "python",
      "nbconvert_exporter": "python",
      "pygments_lexer": "ipython3",
      "version": "3.12.2"
    }
  },
  "nbformat": 4,
  "nbformat_minor": 0
}